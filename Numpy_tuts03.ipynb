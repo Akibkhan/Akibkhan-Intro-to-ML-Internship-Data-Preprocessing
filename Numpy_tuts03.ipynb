{
 "cells": [
  {
   "cell_type": "code",
   "execution_count": 1,
   "id": "7d940c2c-d3fe-4214-8bb9-2496cb40f36d",
   "metadata": {},
   "outputs": [],
   "source": [
    "import numpy as np"
   ]
  },
  {
   "cell_type": "code",
   "execution_count": 3,
   "id": "ba8e9752-349a-443b-94d0-16c6a0e7e71d",
   "metadata": {},
   "outputs": [],
   "source": [
    "my_arr = np.array([[1,2]])"
   ]
  },
  {
   "cell_type": "code",
   "execution_count": 4,
   "id": "654951ec-67d8-418a-893a-c2b8f7909577",
   "metadata": {},
   "outputs": [
    {
     "name": "stdout",
     "output_type": "stream",
     "text": [
      "2\n"
     ]
    }
   ],
   "source": [
    "print(my_arr.ndim)"
   ]
  },
  {
   "cell_type": "code",
   "execution_count": 5,
   "id": "15b3d91a-3d36-4f7c-96ee-0f2c6803e236",
   "metadata": {},
   "outputs": [],
   "source": [
    "my_arr2 = np.array([1,5],ndmin=5)"
   ]
  },
  {
   "cell_type": "code",
   "execution_count": 6,
   "id": "436fcb5a-a76d-4f86-aa7a-bf33009c952f",
   "metadata": {},
   "outputs": [
    {
     "name": "stdout",
     "output_type": "stream",
     "text": [
      "[[[[[1 5]]]]]\n"
     ]
    }
   ],
   "source": [
    "print(my_arr2)"
   ]
  },
  {
   "cell_type": "code",
   "execution_count": null,
   "id": "717ca084-8a7d-40ec-b437-9bc41f038995",
   "metadata": {},
   "outputs": [],
   "source": []
  },
  {
   "cell_type": "code",
   "execution_count": null,
   "id": "545d5fd0-333e-4536-bc3c-c3618ba3b239",
   "metadata": {},
   "outputs": [],
   "source": []
  }
 ],
 "metadata": {
  "kernelspec": {
   "display_name": "Python 3 (ipykernel)",
   "language": "python",
   "name": "python3"
  },
  "language_info": {
   "codemirror_mode": {
    "name": "ipython",
    "version": 3
   },
   "file_extension": ".py",
   "mimetype": "text/x-python",
   "name": "python",
   "nbconvert_exporter": "python",
   "pygments_lexer": "ipython3",
   "version": "3.12.2"
  }
 },
 "nbformat": 4,
 "nbformat_minor": 5
}
