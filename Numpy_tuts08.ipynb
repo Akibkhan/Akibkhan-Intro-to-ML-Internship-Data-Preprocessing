{
 "cells": [
  {
   "cell_type": "code",
   "execution_count": 9,
   "id": "15be9c75-1a5b-43e8-92f6-45f99f0ad4d3",
   "metadata": {},
   "outputs": [],
   "source": [
    "import numpy as np"
   ]
  },
  {
   "cell_type": "code",
   "execution_count": 10,
   "id": "a5d091ec-0959-4395-ab00-c7dad925fa5f",
   "metadata": {},
   "outputs": [],
   "source": [
    "a=np.arange(24)"
   ]
  },
  {
   "cell_type": "code",
   "execution_count": 12,
   "id": "1055ec23-206b-450a-9eca-bea9475c0e28",
   "metadata": {},
   "outputs": [
    {
     "data": {
      "text/plain": [
       "1"
      ]
     },
     "execution_count": 12,
     "metadata": {},
     "output_type": "execute_result"
    }
   ],
   "source": [
    "a.ndim"
   ]
  },
  {
   "cell_type": "code",
   "execution_count": 13,
   "id": "235a557a-232a-4a1d-8120-e90e4a2f40a2",
   "metadata": {},
   "outputs": [
    {
     "name": "stdout",
     "output_type": "stream",
     "text": [
      "[ 0  1  2  3  4  5  6  7  8  9 10 11 12 13 14 15 16 17 18 19 20 21 22 23]\n"
     ]
    }
   ],
   "source": [
    "print(a)"
   ]
  },
  {
   "cell_type": "code",
   "execution_count": 35,
   "id": "22b5b312-bc5d-4434-86e4-7b80932eb877",
   "metadata": {},
   "outputs": [],
   "source": [
    "b=a.reshape(4,2,3)"
   ]
  },
  {
   "cell_type": "code",
   "execution_count": 36,
   "id": "3cde925f-c64b-4fe0-85c6-22d5a87e8897",
   "metadata": {},
   "outputs": [
    {
     "name": "stdout",
     "output_type": "stream",
     "text": [
      "[[[ 0  1  2]\n",
      "  [ 3  4  5]]\n",
      "\n",
      " [[ 6  7  8]\n",
      "  [ 9 10 11]]\n",
      "\n",
      " [[12 13 14]\n",
      "  [15 16 17]]\n",
      "\n",
      " [[18 19 20]\n",
      "  [21 22 23]]]\n"
     ]
    }
   ],
   "source": [
    "print(b)"
   ]
  },
  {
   "cell_type": "code",
   "execution_count": 38,
   "id": "b4f28a94-43be-4eab-80a9-21c33726697c",
   "metadata": {},
   "outputs": [],
   "source": [
    "x=np.empty([3,2,4],dtype=int)"
   ]
  },
  {
   "cell_type": "code",
   "execution_count": 39,
   "id": "ccb31a5b-2224-441e-ad2e-e1a51a775033",
   "metadata": {},
   "outputs": [
    {
     "name": "stdout",
     "output_type": "stream",
     "text": [
      "[[[ 0  1  2  3]\n",
      "  [ 4  5  6  7]]\n",
      "\n",
      " [[ 8  9 10 11]\n",
      "  [12 13 14 15]]\n",
      "\n",
      " [[16 17 18 19]\n",
      "  [20 21 22 23]]]\n"
     ]
    }
   ],
   "source": [
    "print(x)"
   ]
  },
  {
   "cell_type": "code",
   "execution_count": 40,
   "id": "9cfabda6-7ecd-4cf0-918e-e1ed62733918",
   "metadata": {},
   "outputs": [],
   "source": [
    "c=np.ones(3)"
   ]
  },
  {
   "cell_type": "code",
   "execution_count": 42,
   "id": "13f35a41-1017-4c54-8c9d-08c889942f64",
   "metadata": {},
   "outputs": [],
   "source": [
    "d=np.zeros(3)"
   ]
  },
  {
   "cell_type": "code",
   "execution_count": 43,
   "id": "4cde8100-6348-46f1-a5e8-d924348fc305",
   "metadata": {},
   "outputs": [
    {
     "name": "stdout",
     "output_type": "stream",
     "text": [
      "[1. 1. 1.]\n",
      "[0. 0. 0.]\n"
     ]
    }
   ],
   "source": [
    "print(c)\n",
    "print(d)"
   ]
  },
  {
   "cell_type": "code",
   "execution_count": null,
   "id": "6891d2b8-7085-4c4e-9c34-ee9ce508ee7e",
   "metadata": {},
   "outputs": [],
   "source": []
  }
 ],
 "metadata": {
  "kernelspec": {
   "display_name": "Python 3 (ipykernel)",
   "language": "python",
   "name": "python3"
  },
  "language_info": {
   "codemirror_mode": {
    "name": "ipython",
    "version": 3
   },
   "file_extension": ".py",
   "mimetype": "text/x-python",
   "name": "python",
   "nbconvert_exporter": "python",
   "pygments_lexer": "ipython3",
   "version": "3.12.2"
  }
 },
 "nbformat": 4,
 "nbformat_minor": 5
}
