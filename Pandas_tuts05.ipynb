{
 "cells": [
  {
   "cell_type": "code",
   "execution_count": 1,
   "id": "4cd3eae2-a397-4e11-a78d-8c5ea8a56d78",
   "metadata": {},
   "outputs": [],
   "source": [
    "import pandas as pd\n",
    "import numpy as np\n",
    "df = pd.DataFrame(np.random.randn(5, 3), index = ['a', 'c', 'e',\n",
    "'f','h'], columns = ['one', 'two', 'three'])\n",
    "df = df.reindex(['a', 'b', 'c', 'd', 'e', 'f', 'g', 'h'])\n"
   ]
  },
  {
   "cell_type": "code",
   "execution_count": 2,
   "id": "57dbf37c-7295-428a-bf5f-bec15f8c2726",
   "metadata": {},
   "outputs": [
    {
     "name": "stdout",
     "output_type": "stream",
     "text": [
      "        one       two     three\n",
      "a  0.985372 -0.780670 -0.800207\n",
      "b       NaN       NaN       NaN\n",
      "c  0.629948  0.152184 -1.997319\n",
      "d       NaN       NaN       NaN\n",
      "e  0.114664  0.777093 -0.078767\n",
      "f  0.085223 -0.181829 -1.772243\n",
      "g       NaN       NaN       NaN\n",
      "h -1.077687  0.547799 -1.888652\n"
     ]
    }
   ],
   "source": [
    "print(df)"
   ]
  },
  {
   "cell_type": "code",
   "execution_count": 6,
   "id": "d3bab364-42e7-4c79-b411-593f4b0be6ff",
   "metadata": {},
   "outputs": [
    {
     "name": "stdout",
     "output_type": "stream",
     "text": [
      "        one       two     three\n",
      "a  0.985372 -0.780670 -0.800207\n",
      "c  0.629948  0.152184 -1.997319\n",
      "e  0.114664  0.777093 -0.078767\n",
      "f  0.085223 -0.181829 -1.772243\n",
      "h -1.077687  0.547799 -1.888652\n"
     ]
    }
   ],
   "source": [
    "print(df.dropna(axis=0))"
   ]
  },
  {
   "cell_type": "code",
   "execution_count": null,
   "id": "78d7af74-a7a8-42b0-a2f4-dd5aed651548",
   "metadata": {},
   "outputs": [],
   "source": []
  },
  {
   "cell_type": "code",
   "execution_count": null,
   "id": "5eda665a-be6b-445f-82d4-6b4a9a75a5d8",
   "metadata": {},
   "outputs": [],
   "source": []
  }
 ],
 "metadata": {
  "kernelspec": {
   "display_name": "Python 3 (ipykernel)",
   "language": "python",
   "name": "python3"
  },
  "language_info": {
   "codemirror_mode": {
    "name": "ipython",
    "version": 3
   },
   "file_extension": ".py",
   "mimetype": "text/x-python",
   "name": "python",
   "nbconvert_exporter": "python",
   "pygments_lexer": "ipython3",
   "version": "3.12.2"
  }
 },
 "nbformat": 4,
 "nbformat_minor": 5
}
