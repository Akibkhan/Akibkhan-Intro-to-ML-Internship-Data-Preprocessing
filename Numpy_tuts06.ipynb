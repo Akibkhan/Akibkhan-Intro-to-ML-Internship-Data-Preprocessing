{
 "cells": [
  {
   "cell_type": "code",
   "execution_count": 1,
   "id": "ebe4b3cc-7e08-4958-8c11-09b00261ec5f",
   "metadata": {},
   "outputs": [],
   "source": [
    "import numpy as np"
   ]
  },
  {
   "cell_type": "code",
   "execution_count": 2,
   "id": "3586397a-17cd-4183-9ae6-c2f0be74c376",
   "metadata": {},
   "outputs": [],
   "source": [
    "a=np.array([1,2,3])"
   ]
  },
  {
   "cell_type": "code",
   "execution_count": 4,
   "id": "d017b87d-3cd4-4a2c-95c2-5ab16144ac94",
   "metadata": {},
   "outputs": [
    {
     "name": "stdout",
     "output_type": "stream",
     "text": [
      "Examples of 1D array\n"
     ]
    }
   ],
   "source": [
    "print(\"Examples of 1D array\")"
   ]
  },
  {
   "cell_type": "code",
   "execution_count": 6,
   "id": "c6a4939e-de37-4525-a615-7649f8b37cc2",
   "metadata": {},
   "outputs": [],
   "source": [
    "b=np.array([[1,2],[3,4]])"
   ]
  },
  {
   "cell_type": "code",
   "execution_count": 7,
   "id": "aa66a5b7-c05a-4654-9fdf-b20ee331e4f2",
   "metadata": {},
   "outputs": [
    {
     "name": "stdout",
     "output_type": "stream",
     "text": [
      "Examples of 2D array [[1 2]\n",
      " [3 4]]\n"
     ]
    }
   ],
   "source": [
    "print(\"Examples of 2D array\",b)"
   ]
  },
  {
   "cell_type": "code",
   "execution_count": 18,
   "id": "f312c984-55cf-4eb4-a9dc-9c605f4d64cd",
   "metadata": {},
   "outputs": [
    {
     "data": {
      "text/plain": [
       "array([1, 2, 3, 4])"
      ]
     },
     "execution_count": 18,
     "metadata": {},
     "output_type": "execute_result"
    }
   ],
   "source": [
    "c=np.array([1,2,3,4,5],dtype=\"bool\")\n",
    "b.reshape(4)"
   ]
  },
  {
   "cell_type": "code",
   "execution_count": 27,
   "id": "befa3550-b482-4dc2-86b2-4a59f68bdada",
   "metadata": {},
   "outputs": [],
   "source": [
    "d = np.ones([])"
   ]
  },
  {
   "cell_type": "code",
   "execution_count": 28,
   "id": "308dedf6-fd25-4e56-992b-b7b05b648719",
   "metadata": {},
   "outputs": [
    {
     "name": "stdout",
     "output_type": "stream",
     "text": [
      "1.0\n"
     ]
    }
   ],
   "source": [
    "print(d)"
   ]
  },
  {
   "cell_type": "code",
   "execution_count": null,
   "id": "3b488bc2-3ff7-4d29-ba40-965ad9257fca",
   "metadata": {},
   "outputs": [],
   "source": []
  }
 ],
 "metadata": {
  "kernelspec": {
   "display_name": "Python 3 (ipykernel)",
   "language": "python",
   "name": "python3"
  },
  "language_info": {
   "codemirror_mode": {
    "name": "ipython",
    "version": 3
   },
   "file_extension": ".py",
   "mimetype": "text/x-python",
   "name": "python",
   "nbconvert_exporter": "python",
   "pygments_lexer": "ipython3",
   "version": "3.12.2"
  }
 },
 "nbformat": 4,
 "nbformat_minor": 5
}
