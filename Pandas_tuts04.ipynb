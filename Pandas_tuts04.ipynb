{
 "cells": [
  {
   "cell_type": "code",
   "execution_count": 19,
   "id": "66e5b042-599a-4e29-a391-b7935e57ab26",
   "metadata": {},
   "outputs": [],
   "source": [
    "import pandas as pd\n",
    "import numpy as np\n",
    "df = pd.DataFrame(np.random.randn(5, 3), index = ['a', 'c', 'e',\n",
    "'f', 'h'],\n",
    "columns = ['one', 'two', 'three'])\n",
    "df = df.reindex(['a', 'b', 'c', 'd', 'e', 'f', 'g', 'h'])"
   ]
  },
  {
   "cell_type": "code",
   "execution_count": 20,
   "id": "f496bc7b-eac8-4b36-a597-5d9c7dca0043",
   "metadata": {},
   "outputs": [
    {
     "name": "stdout",
     "output_type": "stream",
     "text": [
      "        one       two     three\n",
      "a  0.428326 -0.594361  0.316705\n",
      "b       NaN       NaN       NaN\n",
      "c -1.380134 -0.091745 -0.234392\n",
      "d       NaN       NaN       NaN\n",
      "e  1.297840 -0.370467 -0.681629\n",
      "f  0.720010 -0.560582  0.257017\n",
      "g       NaN       NaN       NaN\n",
      "h  0.931765 -0.329410 -1.390093\n"
     ]
    }
   ],
   "source": [
    "print(df)"
   ]
  },
  {
   "cell_type": "code",
   "execution_count": 24,
   "id": "3651778d-1efc-437c-9559-ee6d2b87c6b8",
   "metadata": {},
   "outputs": [],
   "source": [
    "df = df.dropna()"
   ]
  },
  {
   "cell_type": "code",
   "execution_count": 25,
   "id": "f6a93e9b-fa0e-4568-932f-f6214857972b",
   "metadata": {},
   "outputs": [
    {
     "name": "stdout",
     "output_type": "stream",
     "text": [
      "        one       two     three\n",
      "a  0.428326 -0.594361  0.316705\n",
      "c -1.380134 -0.091745 -0.234392\n",
      "e  1.297840 -0.370467 -0.681629\n",
      "f  0.720010 -0.560582  0.257017\n",
      "h  0.931765 -0.329410 -1.390093\n"
     ]
    }
   ],
   "source": [
    "print(df)"
   ]
  },
  {
   "cell_type": "code",
   "execution_count": null,
   "id": "74ad4a73-6e36-4906-b84f-8849bce7978a",
   "metadata": {},
   "outputs": [],
   "source": []
  }
 ],
 "metadata": {
  "kernelspec": {
   "display_name": "Python 3 (ipykernel)",
   "language": "python",
   "name": "python3"
  },
  "language_info": {
   "codemirror_mode": {
    "name": "ipython",
    "version": 3
   },
   "file_extension": ".py",
   "mimetype": "text/x-python",
   "name": "python",
   "nbconvert_exporter": "python",
   "pygments_lexer": "ipython3",
   "version": "3.12.2"
  }
 },
 "nbformat": 4,
 "nbformat_minor": 5
}
