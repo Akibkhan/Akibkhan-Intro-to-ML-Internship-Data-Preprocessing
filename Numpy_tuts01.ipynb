{
 "cells": [
  {
   "cell_type": "code",
   "execution_count": 1,
   "id": "4abdf3cc-63c8-4df4-84f0-cc66de63ecc0",
   "metadata": {},
   "outputs": [],
   "source": [
    "import numpy as np"
   ]
  },
  {
   "cell_type": "code",
   "execution_count": 2,
   "id": "ba3fd8d4-5637-4abc-99dc-da4de788f64d",
   "metadata": {},
   "outputs": [],
   "source": [
    "array = np.array([1,2,3,4,5])"
   ]
  },
  {
   "cell_type": "code",
   "execution_count": 3,
   "id": "f9a11323-8fed-4b0a-bb02-225e1252ca93",
   "metadata": {},
   "outputs": [
    {
     "name": "stdout",
     "output_type": "stream",
     "text": [
      "[1 2 3 4 5]\n"
     ]
    }
   ],
   "source": [
    "print(array)"
   ]
  },
  {
   "cell_type": "code",
   "execution_count": 4,
   "id": "55081e1e-6351-4566-aec3-fc748db50af9",
   "metadata": {},
   "outputs": [
    {
     "name": "stdout",
     "output_type": "stream",
     "text": [
      "1333331\n"
     ]
    }
   ],
   "source": [
    "zero_dim = np.array(1333331)\n",
    "print(zero_dim)"
   ]
  },
  {
   "cell_type": "code",
   "execution_count": 5,
   "id": "0201b8d0-70a0-46b9-90f3-2d2311748927",
   "metadata": {},
   "outputs": [
    {
     "name": "stdout",
     "output_type": "stream",
     "text": [
      "[1 2 3]\n"
     ]
    }
   ],
   "source": [
    "one_dim = np.array([1,2,3])\n",
    "print(one_dim)"
   ]
  },
  {
   "cell_type": "code",
   "execution_count": 7,
   "id": "95c01448-bae4-466a-898d-d8e3f80b896a",
   "metadata": {},
   "outputs": [],
   "source": [
    "two_dim = np.array([[1,2,3],[4,5,6]])"
   ]
  },
  {
   "cell_type": "code",
   "execution_count": 8,
   "id": "9b7b0a1c-2b4e-4ee8-9201-da6bac09b42c",
   "metadata": {},
   "outputs": [
    {
     "name": "stdout",
     "output_type": "stream",
     "text": [
      "[[1 2 3]\n",
      " [4 5 6]]\n"
     ]
    }
   ],
   "source": [
    "print(two_dim)"
   ]
  },
  {
   "cell_type": "code",
   "execution_count": 19,
   "id": "4da27f72-7145-4ccd-b272-474a65117238",
   "metadata": {},
   "outputs": [],
   "source": [
    "three_dim = np.array([[[1,2,3],[3,4,5],[5,7,8]]])"
   ]
  },
  {
   "cell_type": "code",
   "execution_count": 10,
   "id": "43acb112-5ae7-4d92-8810-173e5c2a09e3",
   "metadata": {},
   "outputs": [
    {
     "name": "stdout",
     "output_type": "stream",
     "text": [
      "[[[1 2 3]\n",
      "  [3 4 5]\n",
      "  [5 7 8]]]\n"
     ]
    }
   ],
   "source": [
    "print(three_dim)"
   ]
  },
  {
   "cell_type": "code",
   "execution_count": 31,
   "id": "acb970c5-9e85-4d27-8157-f0ed1a5f4cf2",
   "metadata": {},
   "outputs": [],
   "source": [
    "new_array = np.array([1,2],ndmin=5)"
   ]
  },
  {
   "cell_type": "code",
   "execution_count": 32,
   "id": "26501651-0c38-4ed2-902e-2de124f64600",
   "metadata": {},
   "outputs": [
    {
     "name": "stdout",
     "output_type": "stream",
     "text": [
      "[[[[[1 2]]]]]\n"
     ]
    }
   ],
   "source": [
    "print(new_array)"
   ]
  },
  {
   "cell_type": "code",
   "execution_count": null,
   "id": "439c136d-b609-4c3c-8ba5-81f1b19bfc84",
   "metadata": {},
   "outputs": [],
   "source": []
  },
  {
   "cell_type": "code",
   "execution_count": null,
   "id": "2a848a91-db3e-4625-83f7-92caace24ce3",
   "metadata": {},
   "outputs": [],
   "source": []
  }
 ],
 "metadata": {
  "kernelspec": {
   "display_name": "Python 3 (ipykernel)",
   "language": "python",
   "name": "python3"
  },
  "language_info": {
   "codemirror_mode": {
    "name": "ipython",
    "version": 3
   },
   "file_extension": ".py",
   "mimetype": "text/x-python",
   "name": "python",
   "nbconvert_exporter": "python",
   "pygments_lexer": "ipython3",
   "version": "3.12.2"
  }
 },
 "nbformat": 4,
 "nbformat_minor": 5
}
