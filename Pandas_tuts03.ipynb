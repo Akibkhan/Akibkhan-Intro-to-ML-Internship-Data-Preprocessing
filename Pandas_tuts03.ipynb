{
 "cells": [
  {
   "cell_type": "code",
   "execution_count": 5,
   "id": "28f9df6c-1055-4e9f-b55b-81e934cff586",
   "metadata": {},
   "outputs": [],
   "source": [
    "import pandas as pd\n",
    "import numpy as np"
   ]
  },
  {
   "cell_type": "code",
   "execution_count": 8,
   "id": "8605a219-2f07-427c-b15b-782d8271bc81",
   "metadata": {},
   "outputs": [],
   "source": [
    "df = pd.DataFrame(np.random.randn(3,3),index=['a','c','e'])\n",
    "columns = ['one','two','three']"
   ]
  },
  {
   "cell_type": "code",
   "execution_count": 10,
   "id": "84df7718-7b49-413c-a0c9-d3d2b7005194",
   "metadata": {},
   "outputs": [],
   "source": [
    "df = df.reindex(['a','b','c'])"
   ]
  },
  {
   "cell_type": "code",
   "execution_count": 11,
   "id": "e7b07a93-f324-42bc-b9c1-6c6bf692e835",
   "metadata": {},
   "outputs": [
    {
     "name": "stdout",
     "output_type": "stream",
     "text": [
      "          0         1         2\n",
      "a  0.159327  0.443049  0.858259\n",
      "b       NaN       NaN       NaN\n",
      "c  1.431107  1.480783  0.520236\n"
     ]
    }
   ],
   "source": [
    "print(df)"
   ]
  },
  {
   "cell_type": "code",
   "execution_count": 12,
   "id": "a93f15ee-8e92-46b4-a402-017ad9d08338",
   "metadata": {},
   "outputs": [
    {
     "name": "stdout",
     "output_type": "stream",
     "text": [
      "          0         1         2\n",
      "a  0.159327  0.443049  0.858259\n",
      "b  0.000000  0.000000  0.000000\n",
      "c  1.431107  1.480783  0.520236\n"
     ]
    }
   ],
   "source": [
    "print(df.fillna(0))"
   ]
  },
  {
   "cell_type": "code",
   "execution_count": null,
   "id": "0c800f5e-915d-4ab4-8e6f-8d5b6fd0b0e6",
   "metadata": {},
   "outputs": [],
   "source": []
  }
 ],
 "metadata": {
  "kernelspec": {
   "display_name": "Python 3 (ipykernel)",
   "language": "python",
   "name": "python3"
  },
  "language_info": {
   "codemirror_mode": {
    "name": "ipython",
    "version": 3
   },
   "file_extension": ".py",
   "mimetype": "text/x-python",
   "name": "python",
   "nbconvert_exporter": "python",
   "pygments_lexer": "ipython3",
   "version": "3.12.2"
  }
 },
 "nbformat": 4,
 "nbformat_minor": 5
}
