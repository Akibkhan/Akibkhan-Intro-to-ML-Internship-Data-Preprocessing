{
 "cells": [
  {
   "cell_type": "code",
   "execution_count": 27,
   "id": "c5a724ce-bc63-4050-b465-8f166e014ead",
   "metadata": {},
   "outputs": [],
   "source": [
    "import pandas as pd\n",
    "import numpy as np"
   ]
  },
  {
   "cell_type": "code",
   "execution_count": null,
   "id": "df960a44-5eed-42fa-b7c8-f46fb8d48a7d",
   "metadata": {},
   "outputs": [],
   "source": []
  },
  {
   "cell_type": "code",
   "execution_count": 28,
   "id": "2245b26d-90be-4d68-ac50-53c7179f5d31",
   "metadata": {},
   "outputs": [],
   "source": [
    "content=[[0,'Sun'],[1,'Mon'],[2,'Tues'],[3,'Wed'],[4,'Thu'],[5,'Fri'],[6,'Sat']]"
   ]
  },
  {
   "cell_type": "code",
   "execution_count": 29,
   "id": "e08b155c-58a2-4429-839e-341a60cd9eb0",
   "metadata": {},
   "outputs": [
    {
     "name": "stdout",
     "output_type": "stream",
     "text": [
      "   No Date of Week\n",
      "0   0          Sun\n",
      "1   1          Mon\n",
      "2   2         Tues\n",
      "3   3          Wed\n",
      "4   4          Thu\n",
      "5   5          Fri\n",
      "6   6          Sat\n"
     ]
    }
   ],
   "source": [
    "df=pd.DataFrame(content,columns=['No','Date of Week'])\n",
    "print(df)"
   ]
  },
  {
   "cell_type": "code",
   "execution_count": 30,
   "id": "52990115-1732-4532-8a24-e6becd537b1e",
   "metadata": {},
   "outputs": [],
   "source": [
    "data = [{'a':1,'b':2},{'a':5,'b':10,'c':20},{'a':10,'b':20,'c':30}]"
   ]
  },
  {
   "cell_type": "code",
   "execution_count": 31,
   "id": "57aa0e4a-0809-4eb5-943e-dde2390fbd0b",
   "metadata": {},
   "outputs": [
    {
     "name": "stdout",
     "output_type": "stream",
     "text": [
      "    a   b     c\n",
      "0   1   2   NaN\n",
      "1   5  10  20.0\n",
      "2  10  20  30.0\n"
     ]
    }
   ],
   "source": [
    "df=pd.DataFrame(data)\n",
    "print(df)"
   ]
  },
  {
   "cell_type": "code",
   "execution_count": 32,
   "id": "a6469187-f450-4c2f-8965-ac3719e9ce9e",
   "metadata": {},
   "outputs": [
    {
     "name": "stdout",
     "output_type": "stream",
     "text": [
      "                         0\n",
      "United Kingdom      London\n",
      "India            New Delhi\n",
      "United States   Washington\n",
      "Belgium           Brussels\n"
     ]
    }
   ],
   "source": [
    "my_series = pd.Series({\"United Kingdom\":\"London\",\"India\":\"New Delhi\",\n",
    "\"United States\":\"Washington\",\"Belgium\":\"Brussels\"})\n",
    "print(pd.DataFrame(my_series))\n"
   ]
  },
  {
   "cell_type": "code",
   "execution_count": 47,
   "id": "b09a4e40-bd70-4ed0-8c6d-34b6f8b099a7",
   "metadata": {},
   "outputs": [],
   "source": [
    "df = pd.DataFrame(np.array([[1,2],[4,5],[7,8],[10,11]]))"
   ]
  },
  {
   "cell_type": "code",
   "execution_count": 48,
   "id": "aea71da1-b65c-4746-8859-47c3ddd09cad",
   "metadata": {},
   "outputs": [
    {
     "name": "stdout",
     "output_type": "stream",
     "text": [
      "(4, 2)\n",
      "4\n"
     ]
    }
   ],
   "source": [
    "print(df.shape)\n",
    "print(len(df.index))"
   ]
  },
  {
   "cell_type": "code",
   "execution_count": 50,
   "id": "1cac2f13-fd0c-4b20-a033-bcbc760d37ad",
   "metadata": {},
   "outputs": [
    {
     "name": "stdout",
     "output_type": "stream",
     "text": [
      "a    1.0\n",
      "b    2.0\n",
      "c    3.0\n",
      "d    NaN\n",
      "Name: one, dtype: float64\n"
     ]
    }
   ],
   "source": [
    "d={'one':pd.Series([1,2,3],index=['a','b','c'])\n",
    "  \n",
    "  ,'two':pd.Series([1,2,3,4],index=['a','b','c','d'])}\n",
    "df = pd.DataFrame(d)\n",
    "print(df['one'])"
   ]
  },
  {
   "cell_type": "code",
   "execution_count": 51,
   "id": "c114f668-0efe-40bd-82da-402420349d3a",
   "metadata": {},
   "outputs": [],
   "source": [
    "df['three'] = pd.Series([10,20,30],index=['a','b','c'])"
   ]
  },
  {
   "cell_type": "code",
   "execution_count": 52,
   "id": "2649002c-7365-4df7-a0ad-7193e1a7948a",
   "metadata": {},
   "outputs": [
    {
     "name": "stdout",
     "output_type": "stream",
     "text": [
      "   one  two  three\n",
      "a  1.0    1   10.0\n",
      "b  2.0    2   20.0\n",
      "c  3.0    3   30.0\n",
      "d  NaN    4    NaN\n"
     ]
    }
   ],
   "source": [
    "print(df)"
   ]
  },
  {
   "cell_type": "code",
   "execution_count": 53,
   "id": "c3b2ee36-c887-4fe9-8c9a-e610f511f744",
   "metadata": {},
   "outputs": [],
   "source": [
    "del df['one']"
   ]
  },
  {
   "cell_type": "code",
   "execution_count": 55,
   "id": "f6789052-33ca-4d3d-800f-9cf95370fbdd",
   "metadata": {},
   "outputs": [
    {
     "name": "stdout",
     "output_type": "stream",
     "text": [
      "   two  three\n",
      "a    1   10.0\n",
      "b    2   20.0\n",
      "c    3   30.0\n",
      "d    4    NaN\n"
     ]
    }
   ],
   "source": [
    "print(df)"
   ]
  },
  {
   "cell_type": "code",
   "execution_count": 56,
   "id": "a6004046-0328-4faa-8967-489aff24a992",
   "metadata": {},
   "outputs": [
    {
     "name": "stdout",
     "output_type": "stream",
     "text": [
      "   three\n",
      "a   10.0\n",
      "b   20.0\n",
      "c   30.0\n",
      "d    NaN\n"
     ]
    }
   ],
   "source": [
    "df.pop('two')\n",
    "print(df)"
   ]
  },
  {
   "cell_type": "code",
   "execution_count": 63,
   "id": "5ba1486f-115d-40f5-9911-1319c5cd863e",
   "metadata": {},
   "outputs": [],
   "source": [
    "df = pd.DataFrame([[1, 2], [3, 4]], columns = ['a','b'])\n",
    "df2 = pd.DataFrame([[5, 6], [7, 8]], columns = ['a','b'])\n"
   ]
  },
  {
   "cell_type": "code",
   "execution_count": 66,
   "id": "47041429-6a0f-4cab-a8b4-09ffa4629e4a",
   "metadata": {},
   "outputs": [],
   "source": [
    "newdf = df._append(df2)"
   ]
  },
  {
   "cell_type": "code",
   "execution_count": 67,
   "id": "486b0af4-3e23-434f-987a-f63378cfbafe",
   "metadata": {},
   "outputs": [
    {
     "name": "stdout",
     "output_type": "stream",
     "text": [
      "   a  b\n",
      "0  1  2\n",
      "1  3  4\n",
      "0  5  6\n",
      "1  7  8\n"
     ]
    }
   ],
   "source": [
    "print(newdf)"
   ]
  },
  {
   "cell_type": "code",
   "execution_count": 68,
   "id": "a0e55da3-a559-4f5c-b7f9-c2ede68979ce",
   "metadata": {},
   "outputs": [
    {
     "name": "stdout",
     "output_type": "stream",
     "text": [
      "   a  b\n",
      "1  3  4\n"
     ]
    }
   ],
   "source": [
    "df=df.drop(0)\n",
    "print(df)"
   ]
  },
  {
   "cell_type": "code",
   "execution_count": null,
   "id": "889f07fc-38a4-4b95-91a7-4e7c7114a77c",
   "metadata": {},
   "outputs": [],
   "source": []
  }
 ],
 "metadata": {
  "kernelspec": {
   "display_name": "Python 3 (ipykernel)",
   "language": "python",
   "name": "python3"
  },
  "language_info": {
   "codemirror_mode": {
    "name": "ipython",
    "version": 3
   },
   "file_extension": ".py",
   "mimetype": "text/x-python",
   "name": "python",
   "nbconvert_exporter": "python",
   "pygments_lexer": "ipython3",
   "version": "3.12.2"
  }
 },
 "nbformat": 4,
 "nbformat_minor": 5
}
