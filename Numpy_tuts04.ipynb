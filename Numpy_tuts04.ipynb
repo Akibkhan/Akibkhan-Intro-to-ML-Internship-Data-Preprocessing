{
 "cells": [
  {
   "cell_type": "code",
   "execution_count": 1,
   "id": "54a374d5-887c-4e82-88c8-ee86328d2d7a",
   "metadata": {},
   "outputs": [],
   "source": [
    "import numpy as np"
   ]
  },
  {
   "cell_type": "code",
   "execution_count": 2,
   "id": "49b43d21-bf9b-4978-b43e-c11b30292684",
   "metadata": {},
   "outputs": [],
   "source": [
    "one_dim = np.array([1,2,3,4,5])"
   ]
  },
  {
   "cell_type": "code",
   "execution_count": 6,
   "id": "f621f511-5dca-4765-b950-431f4c06a9ff",
   "metadata": {},
   "outputs": [
    {
     "name": "stdout",
     "output_type": "stream",
     "text": [
      "[1 2 3 4]\n"
     ]
    }
   ],
   "source": [
    "print(one_dim[0:4])"
   ]
  },
  {
   "cell_type": "code",
   "execution_count": 7,
   "id": "2b7feab6-e767-49ea-9ee8-5ef0f3909ef9",
   "metadata": {},
   "outputs": [
    {
     "name": "stdout",
     "output_type": "stream",
     "text": [
      "[2 3]\n"
     ]
    }
   ],
   "source": [
    "print(one_dim[1:3])"
   ]
  },
  {
   "cell_type": "code",
   "execution_count": 8,
   "id": "75f0e7fa-670c-481b-b98c-3c829fea8544",
   "metadata": {},
   "outputs": [
    {
     "name": "stdout",
     "output_type": "stream",
     "text": [
      "[1 2 3 4 5]\n"
     ]
    }
   ],
   "source": [
    "print(one_dim[:])"
   ]
  },
  {
   "cell_type": "code",
   "execution_count": 9,
   "id": "35d80058-89cd-41fd-aa6d-c82a406bebc3",
   "metadata": {},
   "outputs": [
    {
     "name": "stdout",
     "output_type": "stream",
     "text": [
      "[1 2 3 4]\n"
     ]
    }
   ],
   "source": [
    "print(one_dim[:4])"
   ]
  },
  {
   "cell_type": "code",
   "execution_count": 10,
   "id": "d0d1a61e-88b0-47f4-a7e6-b2674a7a14ba",
   "metadata": {},
   "outputs": [
    {
     "name": "stdout",
     "output_type": "stream",
     "text": [
      "[5]\n"
     ]
    }
   ],
   "source": [
    "print(one_dim[4:])"
   ]
  },
  {
   "cell_type": "code",
   "execution_count": null,
   "id": "800bc683-13a9-43a3-8e0b-d117761a6d2f",
   "metadata": {},
   "outputs": [],
   "source": []
  }
 ],
 "metadata": {
  "kernelspec": {
   "display_name": "Python 3 (ipykernel)",
   "language": "python",
   "name": "python3"
  },
  "language_info": {
   "codemirror_mode": {
    "name": "ipython",
    "version": 3
   },
   "file_extension": ".py",
   "mimetype": "text/x-python",
   "name": "python",
   "nbconvert_exporter": "python",
   "pygments_lexer": "ipython3",
   "version": "3.12.2"
  }
 },
 "nbformat": 4,
 "nbformat_minor": 5
}
