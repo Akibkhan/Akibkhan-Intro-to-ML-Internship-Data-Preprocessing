{
 "cells": [
  {
   "cell_type": "code",
   "execution_count": 8,
   "id": "f2923598-a9be-4e1b-ae05-7f3722fde006",
   "metadata": {},
   "outputs": [],
   "source": [
    "import numpy as np"
   ]
  },
  {
   "cell_type": "code",
   "execution_count": 13,
   "id": "8916654c-9aac-44e9-90bb-267bde525638",
   "metadata": {},
   "outputs": [],
   "source": [
    "array = np.array([1,2,3,4,5])"
   ]
  },
  {
   "cell_type": "code",
   "execution_count": 14,
   "id": "bc1a468a-a660-44f2-87df-aba01ff23bee",
   "metadata": {},
   "outputs": [
    {
     "name": "stdout",
     "output_type": "stream",
     "text": [
      "2\n"
     ]
    }
   ],
   "source": [
    "print(array[1])"
   ]
  },
  {
   "cell_type": "code",
   "execution_count": 18,
   "id": "2c948913-df58-4c0e-a214-397adea3939e",
   "metadata": {},
   "outputs": [],
   "source": [
    "two_dim = np.array([[1,2,3],[4,5,6]])"
   ]
  },
  {
   "cell_type": "code",
   "execution_count": 19,
   "id": "88c7ac72-2aad-4764-b7cd-0412ee71f121",
   "metadata": {},
   "outputs": [
    {
     "name": "stdout",
     "output_type": "stream",
     "text": [
      "2\n"
     ]
    }
   ],
   "source": [
    "print(two_dim.ndim)"
   ]
  },
  {
   "cell_type": "code",
   "execution_count": 24,
   "id": "4e704f8b-fb82-4e86-a1c8-8e68582447b1",
   "metadata": {},
   "outputs": [
    {
     "name": "stdout",
     "output_type": "stream",
     "text": [
      "6\n"
     ]
    }
   ],
   "source": [
    "print(two_dim[1,2])"
   ]
  },
  {
   "cell_type": "code",
   "execution_count": 25,
   "id": "f0ad54ce-8d9c-4046-9085-36980243eb04",
   "metadata": {},
   "outputs": [
    {
     "name": "stdout",
     "output_type": "stream",
     "text": [
      "5\n"
     ]
    }
   ],
   "source": [
    "print(two_dim[1,1])"
   ]
  },
  {
   "cell_type": "code",
   "execution_count": 30,
   "id": "e659f2a7-ed97-4064-8ce9-a98ee9e591fc",
   "metadata": {},
   "outputs": [],
   "source": [
    "three_dim = np.array([[[1,2,3],[4,5,6]],[[7,8,9],[10,11,12]]])"
   ]
  },
  {
   "cell_type": "code",
   "execution_count": 31,
   "id": "8f4aa84c-7f5b-4907-9316-307793d711de",
   "metadata": {},
   "outputs": [
    {
     "name": "stdout",
     "output_type": "stream",
     "text": [
      "3\n"
     ]
    }
   ],
   "source": [
    "print(three_dim.ndim)"
   ]
  },
  {
   "cell_type": "code",
   "execution_count": 32,
   "id": "e8deac5b-65fd-40be-87fa-cc1db97b81d4",
   "metadata": {},
   "outputs": [
    {
     "name": "stdout",
     "output_type": "stream",
     "text": [
      "6\n"
     ]
    }
   ],
   "source": [
    "print(three_dim[0,1,2])"
   ]
  },
  {
   "cell_type": "code",
   "execution_count": null,
   "id": "9c730e2f-57ee-4350-bd8f-b8eee925046b",
   "metadata": {},
   "outputs": [],
   "source": []
  }
 ],
 "metadata": {
  "kernelspec": {
   "display_name": "Python 3 (ipykernel)",
   "language": "python",
   "name": "python3"
  },
  "language_info": {
   "codemirror_mode": {
    "name": "ipython",
    "version": 3
   },
   "file_extension": ".py",
   "mimetype": "text/x-python",
   "name": "python",
   "nbconvert_exporter": "python",
   "pygments_lexer": "ipython3",
   "version": "3.12.2"
  }
 },
 "nbformat": 4,
 "nbformat_minor": 5
}
