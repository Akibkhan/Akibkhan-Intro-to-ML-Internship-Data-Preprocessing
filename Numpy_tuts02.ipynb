{
 "cells": [
  {
   "cell_type": "code",
   "execution_count": 3,
   "id": "cf535fcb-c6d5-4f10-b150-7ff98b0b19d2",
   "metadata": {},
   "outputs": [],
   "source": [
    "import numpy as np"
   ]
  },
  {
   "cell_type": "code",
   "execution_count": null,
   "id": "063ba899-83f2-4930-be85-57301141c715",
   "metadata": {},
   "outputs": [],
   "source": []
  },
  {
   "cell_type": "code",
   "execution_count": null,
   "id": "3bff4607-3c7a-4770-a1fb-0685317fc573",
   "metadata": {},
   "outputs": [],
   "source": []
  },
  {
   "cell_type": "code",
   "execution_count": 4,
   "id": "bb0531af-69e5-437a-b7ae-c0ddfb9aa534",
   "metadata": {},
   "outputs": [],
   "source": [
    "X = [[1,2,3],\n",
    "    [4,5,6],\n",
    "     [7,8,9]]\n",
    "Y = [[9,8,7],\n",
    "     [6,5,4],\n",
    "     [3,2,1]]"
   ]
  },
  {
   "cell_type": "code",
   "execution_count": 5,
   "id": "23f4a539-b741-4755-9905-ede46edab016",
   "metadata": {},
   "outputs": [],
   "source": [
    "result = np.array(X) + np.array(Y)"
   ]
  },
  {
   "cell_type": "code",
   "execution_count": 6,
   "id": "62f75f33-fa3e-435d-b35c-3fd2dc1145a9",
   "metadata": {},
   "outputs": [
    {
     "name": "stdout",
     "output_type": "stream",
     "text": [
      "[[10 10 10]\n",
      " [10 10 10]\n",
      " [10 10 10]]\n"
     ]
    }
   ],
   "source": [
    "print(result)"
   ]
  },
  {
   "cell_type": "code",
   "execution_count": 8,
   "id": "f7f63518-7914-4b22-820e-fd498b6f846d",
   "metadata": {},
   "outputs": [],
   "source": [
    "difference = np.array(X)-np.array(Y)"
   ]
  },
  {
   "cell_type": "code",
   "execution_count": 9,
   "id": "fe057fda-d6f7-4ac9-9dea-ccabf75c21dc",
   "metadata": {},
   "outputs": [
    {
     "name": "stdout",
     "output_type": "stream",
     "text": [
      "[[-8 -6 -4]\n",
      " [-2  0  2]\n",
      " [ 4  6  8]]\n"
     ]
    }
   ],
   "source": [
    "print(difference)"
   ]
  },
  {
   "cell_type": "code",
   "execution_count": 10,
   "id": "3355d704-948d-46ac-96df-0d1bd1681304",
   "metadata": {},
   "outputs": [],
   "source": [
    "mul = np.array(X) * np.array(Y)"
   ]
  },
  {
   "cell_type": "code",
   "execution_count": 11,
   "id": "8a47c495-b2d2-4783-847d-c3b1a226496a",
   "metadata": {},
   "outputs": [
    {
     "name": "stdout",
     "output_type": "stream",
     "text": [
      "[[ 9 16 21]\n",
      " [24 25 24]\n",
      " [21 16  9]]\n"
     ]
    }
   ],
   "source": [
    "print(mul)"
   ]
  },
  {
   "cell_type": "code",
   "execution_count": 12,
   "id": "d4ba0ac4-65cd-4af6-a106-c15d2e93ebee",
   "metadata": {},
   "outputs": [],
   "source": [
    "dot = np.dot(X,Y)"
   ]
  },
  {
   "cell_type": "code",
   "execution_count": 13,
   "id": "a1595e8f-c419-4af1-b7f6-38219eabaf84",
   "metadata": {},
   "outputs": [
    {
     "name": "stdout",
     "output_type": "stream",
     "text": [
      "[[ 30  24  18]\n",
      " [ 84  69  54]\n",
      " [138 114  90]]\n"
     ]
    }
   ],
   "source": [
    "print(dot)"
   ]
  },
  {
   "cell_type": "code",
   "execution_count": 15,
   "id": "3329cb66-8e7f-4380-b362-0eebf6effe82",
   "metadata": {},
   "outputs": [],
   "source": [
    "matr = np.transpose(X)"
   ]
  },
  {
   "cell_type": "code",
   "execution_count": 16,
   "id": "7b9d1651-36ec-425c-ad06-3864d0841dfc",
   "metadata": {},
   "outputs": [
    {
     "name": "stdout",
     "output_type": "stream",
     "text": [
      "[[1 4 7]\n",
      " [2 5 8]\n",
      " [3 6 9]]\n"
     ]
    }
   ],
   "source": [
    "print(matr)"
   ]
  },
  {
   "cell_type": "code",
   "execution_count": null,
   "id": "f6bfb780-bf2f-4a07-8f07-72f449cde27d",
   "metadata": {},
   "outputs": [],
   "source": []
  }
 ],
 "metadata": {
  "kernelspec": {
   "display_name": "Python 3 (ipykernel)",
   "language": "python",
   "name": "python3"
  },
  "language_info": {
   "codemirror_mode": {
    "name": "ipython",
    "version": 3
   },
   "file_extension": ".py",
   "mimetype": "text/x-python",
   "name": "python",
   "nbconvert_exporter": "python",
   "pygments_lexer": "ipython3",
   "version": "3.12.2"
  }
 },
 "nbformat": 4,
 "nbformat_minor": 5
}
